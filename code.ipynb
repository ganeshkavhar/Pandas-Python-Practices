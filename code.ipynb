#pandas string operations
import pandas as pd
s = pd.Series(['Tom ', ' William Rick', 'John', 'Alber@t'])
print ("The number of 'm's in each string:")
print (s.str.count('m')) #getting cou to fm in string
print (s.str.endswith('t')) #ends with t
print (s.str.startswith('t')) #ends with t
print (s.str.swapcase()) #swapcase
print (s.str.islower()) #islower
print (s.str.isupper()) #isupper
print (s.str.isnumeric()) #isnumeric
